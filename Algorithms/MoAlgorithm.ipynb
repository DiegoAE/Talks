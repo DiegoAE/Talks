{
 "metadata": {
  "celltoolbar": "Slideshow",
  "name": "",
  "signature": "sha256:b881e048021059d2721ebd5828fc77f242ab0fc4dff3e1067f6737bcd76a2cc8"
 },
 "nbformat": 3,
 "nbformat_minor": 0,
 "worksheets": [
  {
   "cells": [
    {
     "cell_type": "markdown",
     "metadata": {
      "slideshow": {
       "slide_type": "slide"
      }
     },
     "source": [
      "# Mo's Algorithm"
     ]
    },
    {
     "cell_type": "markdown",
     "metadata": {},
     "source": [
      "## (Square root decomposition on queries)"
     ]
    },
    {
     "cell_type": "markdown",
     "metadata": {
      "slideshow": {
       "slide_type": "slide"
      }
     },
     "source": [
      "## Motivating example."
     ]
    },
    {
     "cell_type": "markdown",
     "metadata": {},
     "source": [
      "You're given an array of integer numbers $A$ and you're asked to answer $Q$ queries where each query looks for the mode in the interval $[ L, R]$. This is the number with highest frecuency in $A[L], A[L + 1], \\dots, A[R]$."
     ]
    },
    {
     "cell_type": "markdown",
     "metadata": {
      "slideshow": {
       "slide_type": "fragment"
      }
     },
     "source": [
      "$$ [ 10, 5, 5, 1 , 2, 5, 1, 1, 1]$$"
     ]
    },
    {
     "cell_type": "markdown",
     "metadata": {
      "slideshow": {
       "slide_type": "fragment"
      }
     },
     "source": [
      "\n",
      "$$\\text{mode in } [0, 2] = 5$$\n",
      "\n",
      "$$\\text{mode in } [3, 5] = 5$$\n",
      "\n",
      "$$\\text{mode in } [3, 6] = 1$$\n",
      "\n",
      "$$\\text{mode in } [0, 8] = 1$$"
     ]
    },
    {
     "cell_type": "markdown",
     "metadata": {
      "slideshow": {
       "slide_type": "slide"
      }
     },
     "source": [
      "## Algorithm-Trick"
     ]
    },
    {
     "cell_type": "markdown",
     "metadata": {
      "slideshow": {
       "slide_type": "fragment"
      }
     },
     "source": [
      "* First a data structure which supports the following operations is needed.\n",
      "    * Insert a number.\n",
      "    * Delete a number.\n",
      "    * Get the mode number.\n",
      "    \n",
      "Which good candidate data structures can you come up with?"
     ]
    },
    {
     "cell_type": "markdown",
     "metadata": {
      "slideshow": {
       "slide_type": "fragment"
      }
     },
     "source": [
      "* Secondly, notice that if you have the above data structure filled with the the numbers from interval $[L, R]$ you can update it with the numbers from interval $[L', R']$ in $\\mathcal{O}( (|L - L'| + |R - R'|)  \\log n )$.\n",
      "\n",
      "How?"
     ]
    },
    {
     "cell_type": "markdown",
     "metadata": {
      "slideshow": {
       "slide_type": "fragment"
      }
     },
     "source": [
      "Now you just need to order the queries (offline) according to the following comparator and process them in that order with the mentioned data structure."
     ]
    },
    {
     "cell_type": "code",
     "collapsed": false,
     "input": [
      "S = the max integer number which is less than sqrt(N);\n",
      "bool cmp(Query A, Query B)\n",
      "{\n",
      "  if (A.l / S != B.l / S) return A.l / S < B.l / S;\n",
      "  return A.r > B.r\n",
      "}"
     ],
     "language": "python",
     "metadata": {},
     "outputs": []
    },
    {
     "cell_type": "markdown",
     "metadata": {
      "slideshow": {
       "slide_type": "slide"
      }
     },
     "source": [
      "## Complexity"
     ]
    },
    {
     "cell_type": "markdown",
     "metadata": {
      "slideshow": {
       "slide_type": "-"
      }
     },
     "source": [
      "$$\\mathcal{O}((N \\sqrt{N} + Q \\sqrt{N}) \\log N + Q \\log Q)$$\n",
      "\n",
      "Where $N$ denotes the array's length and $Q$ the number of queries."
     ]
    },
    {
     "cell_type": "markdown",
     "metadata": {
      "slideshow": {
       "slide_type": "fragment"
      }
     },
     "source": [
      "Can you come up with a $\\mathcal{O}(N \\sqrt{N} + Q \\sqrt{N} + Q \\log Q)$ solution to the problem?"
     ]
    },
    {
     "cell_type": "markdown",
     "metadata": {
      "slideshow": {
       "slide_type": "slide"
      }
     },
     "source": [
      "## References"
     ]
    },
    {
     "cell_type": "markdown",
     "metadata": {},
     "source": [
      "* http://codeforces.com/blog/entry/7383\n",
      "* http://codeforces.com/blog/entry/20032\n",
      "* https://www.hackerearth.com/notes/mos-algorithm/"
     ]
    }
   ],
   "metadata": {}
  }
 ]
}