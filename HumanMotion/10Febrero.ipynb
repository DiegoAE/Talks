{
 "metadata": {
  "celltoolbar": "Slideshow",
  "name": "",
  "signature": "sha256:e4c80bd24c134a56de5514f3620a462af654cef2c16595ef65c12cd39cb86d6a"
 },
 "nbformat": 3,
 "nbformat_minor": 0,
 "worksheets": [
  {
   "cells": [
    {
     "cell_type": "markdown",
     "metadata": {
      "slideshow": {
       "slide_type": "slide"
      }
     },
     "source": [
      "## Estimation of model parameters."
     ]
    },
    {
     "cell_type": "markdown",
     "metadata": {},
     "source": [
      "1. Estimation of parameters related with the markovian dynamics of hidden states. This means assuming the emission parameters known and fixed.\n",
      "2. Jointly estimation of the model parameters including the emission parameters (i.e $A$, $s$ and LFM's hyperparameters)."
     ]
    },
    {
     "cell_type": "markdown",
     "metadata": {},
     "source": [
      "Having $L$ realizations of the HMM to train, the log-likelihood of complete-data can be written as follows:\n",
      "\n",
      "$$ \\ln{p(Z, Y | X, \\Theta)} = \\sum_{t=1}^L \\left \\{ \\sum_{k=1}^K z_{1,k}^t \\ln{s_k} + \\sum_{n=2}^{W_t} \\sum_{j=1}^K \\sum_{k=1}^K  z_{n, j}^t z_{n - 1, k}^t \\ln{A_{j,k}} + \\sum_{n=1}^{W_t} \\sum_{k=1}^K z_{n,k}^t \\ln{p(Y_n^t |\\theta_k, X_n)} \\right \\}$$"
     ]
    },
    {
     "cell_type": "markdown",
     "metadata": {
      "slideshow": {
       "slide_type": "slide"
      }
     },
     "source": [
      "## 1. Estimation of $A$ and $s$ from multiple sequences via the EM algorithm."
     ]
    },
    {
     "cell_type": "markdown",
     "metadata": {},
     "source": [
      "Maximization with respect to the parameters $\\{A, s\\}$.\n",
      "\n",
      "$$ A_{j,k}  = \\frac{ \\sum_{t=1}^L \\sum_{n=2}^{W_t} \\varepsilon^t(z^t_{n - 1, j}, z^t_{n,k})}{ \\sum_{t=1}^L \\sum_{n=2}^{W_t} \\gamma^t(z^t_{n - 1, j}) }$$\n",
      "\n",
      "$$ s_k = \\frac{1}{L} \\sum_{t=1}^L \\gamma^t(z^t_{1,k})$$\n",
      "\n",
      "Where $\\varepsilon^t(.,.)$ and $\\gamma^t(.)$ denote the computed posteriors over the t-th training sequence.\n"
     ]
    },
    {
     "cell_type": "markdown",
     "metadata": {
      "slideshow": {
       "slide_type": "slide"
      }
     },
     "source": [
      "## 1. Estimation of $A$ and $s$ from multiple sequences via the EM algorithm."
     ]
    },
    {
     "cell_type": "markdown",
     "metadata": {},
     "source": [
      "* Toy using the estimated $A$ and $s$ and the Viterbi algorithm to determine the most probable hidden state sequence."
     ]
    },
    {
     "cell_type": "markdown",
     "metadata": {},
     "source": [
      "<img src=\"viterbi_no_emission_params.png\" width=\"600\">"
     ]
    },
    {
     "cell_type": "markdown",
     "metadata": {
      "slideshow": {
       "slide_type": "slide"
      }
     },
     "source": [
      "### 1. Estimation of $A$ and $s$ from multiple sequences via the EM algorithm."
     ]
    },
    {
     "cell_type": "markdown",
     "metadata": {},
     "source": [
      "Estimated values for $A$ and $s$."
     ]
    },
    {
     "cell_type": "code",
     "collapsed": false,
     "input": [
      "initial state distribution [ 0.34091363  0.30128767  0.3577987 ]\n",
      "hidden state transition matrix\n",
      "[[ 0.12550405  0.44757314  0.42692281]\n",
      " [ 0.54776779  0.09133728  0.36089493]\n",
      " [ 0.30702207  0.58407508  0.10890285]]"
     ],
     "language": "python",
     "metadata": {},
     "outputs": []
    },
    {
     "cell_type": "markdown",
     "metadata": {},
     "source": [
      "Actual values for $A$ ans $s$."
     ]
    },
    {
     "cell_type": "code",
     "collapsed": false,
     "input": [
      "initial state distribution [ 0.3  0.3  0.4]\n",
      "hidden state transition matrix\n",
      "[[ 0.1  0.5  0.4]\n",
      " [ 0.6  0.1  0.3]\n",
      " [ 0.4  0.5  0.1]]"
     ],
     "language": "python",
     "metadata": {},
     "outputs": []
    },
    {
     "cell_type": "markdown",
     "metadata": {
      "slideshow": {
       "slide_type": "slide"
      }
     },
     "source": [
      "### 2. Jointly estimation of $A$, $s$ and LFM hyperparameters. "
     ]
    },
    {
     "cell_type": "markdown",
     "metadata": {},
     "source": [
      "* Toy using the estimated $A$, $s$ and LFM hyperparameters and the Viterbi algorithm to determine the most probable hidden state sequence."
     ]
    },
    {
     "cell_type": "markdown",
     "metadata": {},
     "source": [
      "<img src=\"viterbi_emission_params_right.png\" width=\"900\">\n"
     ]
    },
    {
     "cell_type": "markdown",
     "metadata": {
      "slideshow": {
       "slide_type": "slide"
      }
     },
     "source": [
      "### 2. Jointly estimation of $A$, $s$ and LFM hyperparameters. "
     ]
    },
    {
     "cell_type": "markdown",
     "metadata": {},
     "source": [
      "Estimated values for $A$ and $s$."
     ]
    },
    {
     "cell_type": "code",
     "collapsed": false,
     "input": [
      "initial state distribution [ 0.31850425  0.11471619  0.56677956]\n",
      "hidden state transition matrix\n",
      "[[ 0.13657392  0.47784711  0.38557898]\n",
      " [ 0.61148405  0.0655224   0.32299355]\n",
      " [ 0.42933851  0.44875651  0.12190498]]"
     ],
     "language": "python",
     "metadata": {},
     "outputs": []
    },
    {
     "cell_type": "markdown",
     "metadata": {},
     "source": [
      "Actual values for $A$ ans $s$."
     ]
    },
    {
     "cell_type": "code",
     "collapsed": false,
     "input": [
      "initial state distribution [ 0.3  0.3  0.4]\n",
      "hidden state transition matrix\n",
      "[[ 0.1  0.5  0.4]\n",
      " [ 0.6  0.1  0.3]\n",
      " [ 0.4  0.5  0.1]]"
     ],
     "language": "python",
     "metadata": {},
     "outputs": []
    },
    {
     "cell_type": "markdown",
     "metadata": {
      "slideshow": {
       "slide_type": "slide"
      }
     },
     "source": [
      "### 2. Jointly estimation of $A$, $s$ and LFM hyperparameters. "
     ]
    },
    {
     "cell_type": "markdown",
     "metadata": {},
     "source": [
      "Estimated values for emission parameters."
     ]
    },
    {
     "cell_type": "code",
     "collapsed": false,
     "input": [
      " {'spring': array([[ 3.01169597], [ 1.01108688], [ 4.77189357]]), \n",
      "  'lengthscales': array([[  9.84850794], [ 10.25196584], [  8.46328759]]),\n",
      "  'sensi': array([[[ 0.97889693]], [[ 1.0451824 ]], [[ 0.88163271]]]),\n",
      "  'noise_var': 0.00049509413392669998,\n",
      "  'damper': array([[ 0.99052578], [ 2.90706177], [ 5.74688176]])}"
     ],
     "language": "python",
     "metadata": {},
     "outputs": []
    },
    {
     "cell_type": "markdown",
     "metadata": {},
     "source": [
      "Actual values for emission parameters"
     ]
    },
    {
     "cell_type": "code",
     "collapsed": false,
     "input": [
      " {'spring': array([[ 3.0], [ 1.0], [ 5.0]]), \n",
      "  'lengthscales': array([[  10.0], [ 10.0], [  10.0]]),\n",
      "  'sensi': array([[[ 1.0]], [[ 1.0]], [[ 1.0]]]),\n",
      "  'noise_var': 0.0005,\n",
      "  'damper': array([[ 1.0], [ 3.0], [ 6.0]])}"
     ],
     "language": "python",
     "metadata": {},
     "outputs": []
    },
    {
     "cell_type": "markdown",
     "metadata": {
      "slideshow": {
       "slide_type": "slide"
      }
     },
     "source": [
      "### 2. Jointly estimation of $A$, $s$ and LFM hyperparameters. "
     ]
    },
    {
     "cell_type": "markdown",
     "metadata": {},
     "source": [
      "Main overcome problems:\n",
      "   * Lack of working implementation for LFM hyperparameter estimation in Python.\n",
      "       * **Solution**. Using improved Cristian's code to perform this.\n",
      "   * Singularities in covariance matrices due to high magnitude hyperparameter values.\n",
      "       * **Solution**: Setting optimization bounds.\n",
      "   * Numerical instability in GP likelihood and log-likelihood evaluation.\n",
      "       * **Solution**: Using `scipy.stats.multivariate_normal` to robustly evaluate these things.\n",
      "       "
     ]
    },
    {
     "cell_type": "markdown",
     "metadata": {
      "slideshow": {
       "slide_type": "slide"
      }
     },
     "source": [
      "## Validation of the model over synthetic and real data."
     ]
    },
    {
     "cell_type": "markdown",
     "metadata": {},
     "source": [
      "1. Definition of a generative model for generating continuous observations.\n",
      "2. Definition of a validation scheme over a real dataset."
     ]
    },
    {
     "cell_type": "markdown",
     "metadata": {
      "slideshow": {
       "slide_type": "slide"
      }
     },
     "source": [
      "## 1. Definition of a generative model for generating continuous observations."
     ]
    },
    {
     "cell_type": "markdown",
     "metadata": {},
     "source": [
      "* For each new segment its mean is given by the last value of the last segment.\n",
      "* The first value of the new segment is conditioned to the last value of the last segment."
     ]
    },
    {
     "cell_type": "markdown",
     "metadata": {},
     "source": [
      "<img src=\"Mean_and_conditioning.png\" width=800>"
     ]
    },
    {
     "cell_type": "markdown",
     "metadata": {
      "slideshow": {
       "slide_type": "slide"
      }
     },
     "source": [
      "## 1. Viterbi algorithm executed over a synthetic continuous observation."
     ]
    },
    {
     "cell_type": "markdown",
     "metadata": {},
     "source": [
      "<img src=\"continuous_fit_seed.png\" width=900>"
     ]
    },
    {
     "cell_type": "markdown",
     "metadata": {},
     "source": [
      "* HS Ground truth [1 0 2 0 1 0]\n",
      "* HS own model    [1 0 1 0 1 0]"
     ]
    },
    {
     "cell_type": "markdown",
     "metadata": {
      "slideshow": {
       "slide_type": "slide"
      }
     },
     "source": [
      "## 2. Definition of a validation scheme over a real dataset."
     ]
    },
    {
     "cell_type": "markdown",
     "metadata": {},
     "source": [
      "**MOCAP** Subject: 5. Trial: 13. Channel: 20. (dancing)"
     ]
    },
    {
     "cell_type": "markdown",
     "metadata": {},
     "source": [
      "<img src='second_real_data_fit.png' width=1000>"
     ]
    },
    {
     "cell_type": "markdown",
     "metadata": {},
     "source": [
      "Inferred hidden states  [0 0 0 2 0 0 0 0 0 1 1 2 2 2 1 1 1 1 1 1 1 1 2 0 2 1 1 1 1 1]"
     ]
    },
    {
     "cell_type": "markdown",
     "metadata": {
      "slideshow": {
       "slide_type": "slide"
      }
     },
     "source": [
      "## 2. Definition of a validation scheme over a real dataset."
     ]
    },
    {
     "cell_type": "markdown",
     "metadata": {},
     "source": [
      "* Generating sequences from the SDLFM model to use as observations in the proposed model.\n",
      "* Looking for a database with labeled motor primitives.\n",
      "* Coding the multiple-output version of the model."
     ]
    }
   ],
   "metadata": {}
  }
 ]
}