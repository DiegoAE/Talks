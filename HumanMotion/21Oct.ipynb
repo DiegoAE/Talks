{
 "cells": [
  {
   "cell_type": "markdown",
   "metadata": {
    "slideshow": {
     "slide_type": "slide"
    }
   },
   "source": [
    "## Generative Model for HMM + LFM: Sampling the model."
   ]
  },
  {
   "cell_type": "markdown",
   "metadata": {},
   "source": [
    "\n",
    "* Hidden State 0 \n",
    "\n",
    "$$\\frac{d^2 y_d(t)}{dt} + 1.0 \\frac{d y_d(t)}{dt} + 3.0 y(t) = u(t, lq = 100)$$\n",
    "\t\n",
    "* Hidden State 1 \n",
    "\t\n",
    "$$\\frac{d^2 y_d(t)}{dt} + 3.0 \\frac{d y_d(t)}{dt} + 1.0 y(t) = u(t, lq = 100)$$\n",
    "\t\n",
    "* Hidden State 2\n",
    "\t\n",
    "$$\\frac{d^2 y_d(t)}{dt} + 5.0 \\frac{d y_d(t)}{dt} + 5.0 y(t) = u(t, lq = 10)$$"
   ]
  },
  {
   "cell_type": "markdown",
   "metadata": {
    "slideshow": {
     "slide_type": "slide"
    }
   },
   "source": [
    "## Generative Model for HMM + LFM: Sampling the model."
   ]
  },
  {
   "cell_type": "markdown",
   "metadata": {},
   "source": [
    "<img src=\"GenerativeModel.png\">"
   ]
  },
  {
   "cell_type": "markdown",
   "metadata": {},
   "source": [
    "Hidden state transisiton sequence: $\\{0, 2, 1, 0, 2, 2, 0, 0, 0, 2\\}$"
   ]
  },
  {
   "cell_type": "markdown",
   "metadata": {
    "slideshow": {
     "slide_type": "slide"
    }
   },
   "source": [
    "## Currently working on:"
   ]
  },
  {
   "cell_type": "markdown",
   "metadata": {},
   "source": [
    "* Estimating Parameters of HMM independently from emission processes."
   ]
  },
  {
   "cell_type": "markdown",
   "metadata": {},
   "source": [
    "## Problems faced so far:"
   ]
  },
  {
   "cell_type": "markdown",
   "metadata": {},
   "source": [
    "* Underflow while running the forward-backward algorithm (i.e while computing the probabilities $\\alpha(.)$ and $\\beta(.)$).\n",
    "\n",
    "* ** Solution **: to use the scaled versions of probabilities $\\alpha(.)$ and $\\beta(.)$."
   ]
  },
  {
   "cell_type": "markdown",
   "metadata": {
    "slideshow": {
     "slide_type": "slide"
    }
   },
   "source": [
    "### Unscaled $\\alpha(.)$ and $\\beta(.)$.\n",
    "\n",
    "$$ \\alpha(z_n) \\equiv p(x_1, \\dots, x_n, z_n)$$\n",
    "\n",
    "\n",
    "$$ \\beta(z_n) \\equiv p(x_{n+1}, \\dots, x_N | z_n)$$\n",
    "\n",
    "\n",
    "$$ \\alpha(z_n) = p(x_n | z_n) \\sum_{z_{n-1}} \\alpha(z_{n-1}) p(z_n | z_{n-1}) $$\n",
    "\n",
    "\n",
    "$$ \\beta(z_n) = \\sum_{z_{n+1}} \\beta(z_{n+1}) p(x_{n+1} | z_{n+1}) p(z_{n+1} | z_n) $$"
   ]
  },
  {
   "cell_type": "markdown",
   "metadata": {
    "slideshow": {
     "slide_type": "slide"
    }
   },
   "source": [
    "### Scaled $\\alpha(.)$ and $\\beta(.)$.\n",
    "\n",
    "$$ \\hat{\\alpha}(z_n) = p( z_n | x_1, \\dots, x_n) = \\frac{\\alpha(z_n)}{p(x_1, \\dots, x_n)}$$\n",
    "\n",
    "$$ \\hat{\\beta}(z_n) =  \\frac{ \\beta(z_n) }{p(x_{n+1}, \\dots, x_N | x_1, \\dots, x_n)}$$\n",
    "\n",
    "In order to relate the scaled and non-scaled variables, it's necessary to introduce the following scaling factors:\n",
    "\n",
    "$$ c_n = p(x_n | x_1, \\dots, x_{n-1})$$\n",
    "\n",
    "Therefore,\n",
    "\n",
    "$$ c_n \\hat{\\alpha}(z_n) = p(x_n | z_n) \\sum_{z_{n-1}} \\hat{\\alpha}(z_{n-1}) p(z_n | z_{n-1}) $$\n",
    "\n",
    "$$ c_{n+1} \\hat{\\beta}(z_n) = \\sum_{z_{n+1}} \\hat{\\beta}(z_{n+1}) p(x_{n+1} | z_{n+1}) p(z_{n+1} | z_n) $$"
   ]
  },
  {
   "cell_type": "markdown",
   "metadata": {
    "slideshow": {
     "slide_type": "slide"
    }
   },
   "source": [
    "## Problems faced so far:"
   ]
  },
  {
   "cell_type": "markdown",
   "metadata": {},
   "source": [
    "* Numerical problems while computing probabilities $p(Y_i | z_j)$. The **LFM** corresponding to the hidden state $\\{2\\}$ is \"absorbing\" all the emissions whereas the probabilities of hidden states $\\{0, 1\\}$ generating the emissions is close to $0$."
   ]
  },
  {
   "cell_type": "markdown",
   "metadata": {},
   "source": [
    "* This problem seems to be solved when smaller lengthscales are used for hidden states $\\{0, 1\\}$."
   ]
  },
  {
   "cell_type": "markdown",
   "metadata": {},
   "source": [
    "* ** Next step **: Support estimation of HMM parameters from multiples training sequences."
   ]
  }
 ],
 "metadata": {
  "celltoolbar": "Slideshow",
  "kernelspec": {
   "display_name": "Python 2",
   "language": "python",
   "name": "python2"
  },
  "language_info": {
   "codemirror_mode": {
    "name": "ipython",
    "version": 2
   },
   "file_extension": ".py",
   "mimetype": "text/x-python",
   "name": "python",
   "nbconvert_exporter": "python",
   "pygments_lexer": "ipython2",
   "version": "2.7.8"
  }
 },
 "nbformat": 4,
 "nbformat_minor": 0
}
