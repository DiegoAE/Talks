{
 "cells": [
  {
   "cell_type": "markdown",
   "metadata": {
    "slideshow": {
     "slide_type": "slide"
    }
   },
   "source": [
    "# Jasmine"
   ]
  },
  {
   "cell_type": "markdown",
   "metadata": {},
   "source": [
    "## Behavior-Driven Javascript"
   ]
  },
  {
   "cell_type": "markdown",
   "metadata": {},
   "source": [
    "Diego A. Agudelo España "
   ]
  },
  {
   "cell_type": "markdown",
   "metadata": {},
   "source": [
    "25/06/2015"
   ]
  },
  {
   "cell_type": "markdown",
   "metadata": {
    "slideshow": {
     "slide_type": "slide"
    }
   },
   "source": [
    "## Testing vs Debugging"
   ]
  },
  {
   "cell_type": "markdown",
   "metadata": {
    "slideshow": {
     "slide_type": "skip"
    }
   },
   "source": [
    "Puede correr en cualquier lugar que corra Javascript"
   ]
  },
  {
   "cell_type": "markdown",
   "metadata": {
    "slideshow": {
     "slide_type": "slide"
    }
   },
   "source": [
    "### TDD (Test-Driven Development)"
   ]
  },
  {
   "cell_type": "markdown",
   "metadata": {
    "slideshow": {
     "slide_type": "fragment"
    }
   },
   "source": [
    "1. Agregar un nuevo caso de prueba.\n",
    "2. Ejecutar las pruebas y asegurarse de que el nuevo caso falla.\n",
    "3. Escribir el código necesario para que el nuevo caso se ejecute con éxito.\n",
    "4. Ejecutar de nuevo las pruebas.\n",
    "5. Refactoring."
   ]
  },
  {
   "cell_type": "markdown",
   "metadata": {
    "slideshow": {
     "slide_type": "slide"
    }
   },
   "source": [
    "### TDD vs. BDD"
   ]
  },
  {
   "cell_type": "markdown",
   "metadata": {
    "slideshow": {
     "slide_type": "fragment"
    }
   },
   "source": [
    "* BDD se desarrolla a partir de TDD. "
   ]
  },
  {
   "cell_type": "markdown",
   "metadata": {
    "slideshow": {
     "slide_type": "fragment"
    }
   },
   "source": [
    "* TDD carece de una especificación para determinar lo que debe ser probado y como."
   ]
  },
  {
   "cell_type": "markdown",
   "metadata": {
    "slideshow": {
     "slide_type": "notes"
    }
   },
   "source": [
    "el TDD no es específico, es decir, se pueden probar requerimientos de alto nivel y detalles de implementación de bajo nivel."
   ]
  },
  {
   "cell_type": "markdown",
   "metadata": {
    "slideshow": {
     "slide_type": "fragment"
    }
   },
   "source": [
    "* BDD se fundamenta en la idea de que las pruebas a unidades de software deben ser especificadas en términos de su **comportamiento deseado**."
   ]
  },
  {
   "cell_type": "markdown",
   "metadata": {
    "slideshow": {
     "slide_type": "slide"
    }
   },
   "source": [
    "### BDD (Behavior-Driven Development)"
   ]
  },
  {
   "cell_type": "markdown",
   "metadata": {
    "slideshow": {
     "slide_type": "fragment"
    }
   },
   "source": [
    "* El comportamiento deseado en BDD se refiere a los requerimientos del negocio."
   ]
  },
  {
   "cell_type": "markdown",
   "metadata": {
    "slideshow": {
     "slide_type": "notes"
    }
   },
   "source": [
    "es decir comportamiento que tenga *bussiness value*"
   ]
  },
  {
   "cell_type": "markdown",
   "metadata": {
    "slideshow": {
     "slide_type": "fragment"
    }
   },
   "source": [
    "* El comportamiento deseado **debe ser especificado**."
   ]
  },
  {
   "cell_type": "markdown",
   "metadata": {
    "slideshow": {
     "slide_type": "fragment"
    }
   },
   "source": [
    "* Dicho comportamiento debe ser especificado con un lenguaje \"semi-formal\" (*ubiquitous language*) basado en *user stories* o en especificaciones."
   ]
  },
  {
   "cell_type": "markdown",
   "metadata": {
    "slideshow": {
     "slide_type": "fragment"
    }
   },
   "source": [
    "* De acuerdo a BDD en el proceso de especificación deben participar los **analistas del negocio y los desarrolladores**."
   ]
  },
  {
   "cell_type": "markdown",
   "metadata": {
    "slideshow": {
     "slide_type": "slide"
    }
   },
   "source": [
    "### Estructura de la especificación de los comportamientos"
   ]
  },
  {
   "cell_type": "markdown",
   "metadata": {},
   "source": [
    "\n",
    "1. ** Dado que ...**\n",
    " * Se especifican las condiciones iniciales y contexto del escenario.\n",
    "2. ** Si/Cuando ...**\n",
    " * Se detalla el evento que provoca el inicio del escenario particular.\n",
    "3. ** Entonces ...**\n",
    " * Se describe el resultado esperado en el escenario descrito."
   ]
  },
  {
   "cell_type": "markdown",
   "metadata": {
    "slideshow": {
     "slide_type": "notes"
    }
   },
   "source": [
    "Se especifica declarativamente en lugar de imperativamente."
   ]
  },
  {
   "cell_type": "markdown",
   "metadata": {
    "slideshow": {
     "slide_type": "slide"
    }
   },
   "source": [
    "### User Story vs. Specification\n",
    "\n",
    "User Story:\n",
    "\n",
    "    Dado que estoy calculando el valor absoluto de un número\n",
    "    Si aplico esta operación a un número negativo \n",
    "    Entonces obtengo el mismo número positivo\n",
    "\n",
    "Specification \n",
    "\n",
    "```javascript\n",
    "describe(\"Absolute value\", function() {\n",
    "  describe(\"When a negative number is given\", function() {\n",
    "    it(\"should return the same number but positive\", function() {\n",
    "      expect(Example.abs(-5.5)).toEqual(5.5);\n",
    "    });\n",
    "  });\n",
    "});\n",
    "```"
   ]
  },
  {
   "cell_type": "markdown",
   "metadata": {
    "slideshow": {
     "slide_type": "notes"
    }
   },
   "source": [
    "* User story:\n",
    "    * usa user stories. (alto nivel)\n",
    "    * Hay una clara separación entre el user story y el testing code.\n",
    "    * JBehave (Java).\n",
    "* Specification: \n",
    "    * especificaciones funcionales. (bajo nivel, menos conventientes para analistas del negocio)\n",
    "    * Por lo anterior Specification BDD es visto como un reemplazo al TDD sin ninguna estructura/formato.\n",
    "    * Como consecuencia se mezcla con la especificación con el testing code.\n",
    "    * Jasmine (JavaScript)\n"
   ]
  },
  {
   "cell_type": "markdown",
   "metadata": {
    "slideshow": {
     "slide_type": "slide"
    }
   },
   "source": [
    "### ¿Qué es Jasmine?"
   ]
  },
  {
   "cell_type": "markdown",
   "metadata": {},
   "source": [
    "Es un *framework* de código abierto para desarrollo *behavior-driven* para probar código Javascript."
   ]
  },
  {
   "cell_type": "markdown",
   "metadata": {
    "slideshow": {
     "slide_type": "fragment"
    }
   },
   "source": [
    "#### Algunas características de Jasmine:"
   ]
  },
  {
   "cell_type": "markdown",
   "metadata": {
    "slideshow": {
     "slide_type": "fragment"
    }
   },
   "source": [
    "* No depende de otros *frameworks* de Javascript."
   ]
  },
  {
   "cell_type": "markdown",
   "metadata": {
    "slideshow": {
     "slide_type": "fragment"
    }
   },
   "source": [
    "* No requiere un DOM."
   ]
  },
  {
   "cell_type": "markdown",
   "metadata": {
    "slideshow": {
     "slide_type": "fragment"
    }
   },
   "source": [
    "* Maneja sintaxis clara e intuitiva que facilita la escritura de pruebas."
   ]
  },
  {
   "cell_type": "markdown",
   "metadata": {
    "slideshow": {
     "slide_type": "slide"
    }
   },
   "source": [
    "### ¿Cómo instalar Jasmine?"
   ]
  },
  {
   "cell_type": "markdown",
   "metadata": {},
   "source": [
    "* Jasmine NPM module.\n",
    "* Jasmine Ruby Gem.\n",
    "* Python Egg.\n",
    "* Standalone App.\n",
    "\n",
    "https://github.com/jasmine/jasmine"
   ]
  },
  {
   "cell_type": "markdown",
   "metadata": {
    "slideshow": {
     "slide_type": "slide"
    }
   },
   "source": [
    "### Conceptos de Jasmine: Suite\n",
    "\n",
    "```javascript\n",
    "describe(\"Suite title\", function() {\n",
    "  // implements the actual suite code\n",
    "});\n",
    "```"
   ]
  },
  {
   "cell_type": "markdown",
   "metadata": {
    "slideshow": {
     "slide_type": "notes"
    }
   },
   "source": [
    "* Hacer enfasis en que se reciben dos argumentos (string, función)\n",
    "* Normalmente el título hace referencia a lo que se está testeando.\n",
    "* Se implementa el código de la suite en la función anónima."
   ]
  },
  {
   "cell_type": "markdown",
   "metadata": {
    "slideshow": {
     "slide_type": "slide"
    }
   },
   "source": [
    "### Conceptos de Jasmine: Spec"
   ]
  },
  {
   "cell_type": "code",
   "execution_count": 14,
   "metadata": {
    "collapsed": false
   },
   "outputs": [
    {
     "name": "stdout",
     "output_type": "stream",
     "text": [
      "Overwriting ../spec/javascripts/FirstSpec.js\n"
     ]
    }
   ],
   "source": [
    "%%writefile ../spec/javascripts/FirstSpec.js\n",
    "\n",
    "describe(\"Example Suite \", function() {\n",
    "  it(\"My first spec\", function() {\n",
    "    expect(true).toEqual(true);\n",
    "  });\n",
    "});"
   ]
  },
  {
   "cell_type": "code",
   "execution_count": 15,
   "metadata": {
    "collapsed": false,
    "scrolled": true
   },
   "outputs": [
    {
     "data": {
      "text/html": [
       "\n",
       "        <iframe\n",
       "            width=\"900\"\n",
       "            height=\"300\"\n",
       "            src=\"http://localhost:1337\"\n",
       "            frameborder=\"0\"\n",
       "            allowfullscreen\n",
       "        ></iframe>\n",
       "        "
      ],
      "text/plain": [
       "<IPython.lib.display.IFrame at 0x7f0dc9f61990>"
      ]
     },
     "metadata": {},
     "output_type": "display_data"
    }
   ],
   "source": [
    "from IPython.display import display, IFrame\n",
    "display(IFrame('http://localhost:1337', 900, 300))"
   ]
  },
  {
   "cell_type": "markdown",
   "metadata": {
    "slideshow": {
     "slide_type": "notes"
    }
   },
   "source": [
    "* Una spec contiene un test que puede contener una o más aserciones para validar el estado del programa en un momento determinado. Puede haber cualquier cosa dentro de los specs asi que es cuestión de imaginación."
   ]
  },
  {
   "cell_type": "markdown",
   "metadata": {
    "slideshow": {
     "slide_type": "slide"
    }
   },
   "source": [
    "### Aserciones (Expectations)"
   ]
  },
  {
   "cell_type": "code",
   "execution_count": 16,
   "metadata": {
    "collapsed": false
   },
   "outputs": [
    {
     "name": "stdout",
     "output_type": "stream",
     "text": [
      "Overwriting ../spec/javascripts/ExpectationsSpec.js\n"
     ]
    }
   ],
   "source": [
    "%%writefile ../spec/javascripts/ExpectationsSpec.js\n",
    "\n",
    "describe(\"Example Suite 2\", function() {\n",
    "  it(\"asserts expectations\", function() {\n",
    "    expect(true).toEqual(true);\n",
    "    expect(true).not.toEqual(false);\n",
    "    expect(10).toBeGreaterThan(5);\n",
    "  });\n",
    "});"
   ]
  },
  {
   "cell_type": "code",
   "execution_count": 17,
   "metadata": {
    "collapsed": false
   },
   "outputs": [
    {
     "data": {
      "text/html": [
       "\n",
       "        <iframe\n",
       "            width=\"900\"\n",
       "            height=\"300\"\n",
       "            src=\"http://localhost:1337\"\n",
       "            frameborder=\"0\"\n",
       "            allowfullscreen\n",
       "        ></iframe>\n",
       "        "
      ],
      "text/plain": [
       "<IPython.lib.display.IFrame at 0x7f0dc9f61310>"
      ]
     },
     "metadata": {},
     "output_type": "display_data"
    }
   ],
   "source": [
    "display(IFrame('http://localhost:1337', 900, 300))"
   ]
  },
  {
   "cell_type": "markdown",
   "metadata": {
    "slideshow": {
     "slide_type": "notes"
    }
   },
   "source": [
    "* Expectations: \n",
    "    * denotan un comportamiento esperado. Contrastando el valor esperado con el obtenido por el programa.\n",
    "    * se encadenan con un matcher.\n",
    "    * de ellas depende si la ejecución de un  *Spec* es exitosa o no."
   ]
  },
  {
   "cell_type": "markdown",
   "metadata": {
    "slideshow": {
     "slide_type": "slide"
    }
   },
   "source": [
    "### Matchers"
   ]
  },
  {
   "cell_type": "code",
   "execution_count": 5,
   "metadata": {
    "collapsed": false,
    "slideshow": {
     "slide_type": "-"
    }
   },
   "outputs": [
    {
     "name": "stdout",
     "output_type": "stream",
     "text": [
      "Overwriting ../spec/javascripts/IncludedMatchersSpec.js\n"
     ]
    }
   ],
   "source": [
    "%%writefile ../spec/javascripts/IncludedMatchersSpec.js\n",
    "\n",
    "describe(\"Included matchers:\", function() {\n",
    "\n",
    "  it(\"The 'toBe' matcher compares with ===\", function() {\n",
    "    var a = 12;\n",
    "    var b = a;\n",
    "\n",
    "    expect(a).toBe(b);\n",
    "    expect(a).not.toBe(null);\n",
    "  });\n",
    "\n",
    "  describe(\"The 'toEqual' matcher\", function() {\n",
    "\n",
    "    it(\"works for simple literals and variables\", function() {\n",
    "      var a = 12;\n",
    "      expect(a).toEqual(12);\n",
    "    });\n",
    "\n",
    "    it(\"should work for objects\", function() {\n",
    "      var foo = {\n",
    "        a: 12,\n",
    "        b: 34\n",
    "      };\n",
    "      var bar = {\n",
    "        a: 12,\n",
    "        b: 34\n",
    "      };\n",
    "      expect(foo).toEqual(bar);\n",
    "    });\n",
    "  });\n",
    "\n",
    "  it(\"The 'toMatch' matcher is for regular expressions\", function() {\n",
    "    var message = \"foo bar baz\";\n",
    "\n",
    "    expect(message).toMatch(/bar/);\n",
    "    expect(message).toMatch(\"bar\");\n",
    "    expect(message).not.toMatch(/quux/);\n",
    "  });\n",
    "\n",
    "  it(\"The 'toBeDefined' matcher compares against `undefined`\", function() {\n",
    "    var a = {\n",
    "      foo: \"foo\"\n",
    "    };\n",
    "\n",
    "    expect(a.foo).toBeDefined();\n",
    "    expect(a.bar).not.toBeDefined();\n",
    "  });\n",
    "\n",
    "  it(\"The `toBeUndefined` matcher compares against `undefined`\", function() {\n",
    "    var a = {\n",
    "      foo: \"foo\"\n",
    "    };\n",
    "\n",
    "    expect(a.foo).not.toBeUndefined();\n",
    "    expect(a.bar).toBeUndefined();\n",
    "  });\n",
    "\n",
    "  it(\"The 'toBeNull' matcher compares against null\", function() {\n",
    "    var a = null;\n",
    "    var foo = \"foo\";\n",
    "    var p = {\n",
    "      foo: \"foo\"\n",
    "    };\n",
    "    expect(null).toBeNull();\n",
    "    expect(a).toBeNull();\n",
    "    expect(foo).not.toBeNull();\n",
    "    expect(p.bar).not.toBeNull();\n",
    "  });\n",
    "\n",
    "  it(\"The 'toBeTruthy' matcher is for boolean casting testing\", function() {\n",
    "    var a, foo = \"foo\";\n",
    "\n",
    "    expect(foo).toBeTruthy();\n",
    "    expect(a).not.toBeTruthy();\n",
    "  });\n",
    "\n",
    "  it(\"The 'toBeFalsy' matcher is for boolean casting testing\", function() {\n",
    "    var a, foo = \"foo\";\n",
    "\n",
    "    expect(a).toBeFalsy();\n",
    "    expect(foo).not.toBeFalsy();\n",
    "  });\n",
    "\n",
    "  it(\"The 'toContain' matcher is for finding an item in an Array\", function() {\n",
    "    var a = [\"foo\", \"bar\", \"baz\"];\n",
    "\n",
    "    expect(a).toContain(\"bar\");\n",
    "    expect(a).not.toContain(\"quux\");\n",
    "  });\n",
    "\n",
    "  it(\"The 'toBeLessThan' matcher is for mathematical comparisons\", function() {\n",
    "    var pi = 3.1415926,\n",
    "      e = 2.78;\n",
    "\n",
    "    expect(e).toBeLessThan(pi);\n",
    "    expect(pi).not.toBeLessThan(e);\n",
    "  });\n",
    "\n",
    "  it(\"The 'toBeGreaterThan' matcher is for mathematical comparisons\", function() {\n",
    "    var pi = 3.1415926,\n",
    "      e = 2.78;\n",
    "\n",
    "    expect(pi).toBeGreaterThan(e);\n",
    "    expect(e).not.toBeGreaterThan(pi);\n",
    "  });\n",
    "\n",
    "  it(\"The 'toBeCloseTo' matcher is for precision math comparison\", function() {\n",
    "    var pi = 3.1415926,\n",
    "      e = 2.78;\n",
    "\n",
    "    expect(pi).not.toBeCloseTo(e, 2);\n",
    "    expect(pi).toBeCloseTo(e, 0);\n",
    "  });\n",
    "\n",
    "  it(\"The 'toThrow' matcher is for testing if a function throws an exception\", function() {\n",
    "    var foo = function() {\n",
    "      return 1 + 2;\n",
    "    };\n",
    "    var bar = function() {\n",
    "      return a + 1;\n",
    "    };\n",
    "\n",
    "    expect(foo).not.toThrow();\n",
    "    expect(bar).toThrow();\n",
    "  });\n",
    "\n",
    "  it(\"The 'toThrowError' matcher is for testing a specific thrown exception\", function() {\n",
    "    var foo = function() {\n",
    "      throw new TypeError(\"foo bar baz\");\n",
    "    };\n",
    "\n",
    "    expect(foo).toThrowError(\"foo bar baz\");\n",
    "    expect(foo).toThrowError(/bar/);\n",
    "    expect(foo).toThrowError(TypeError);\n",
    "    expect(foo).toThrowError(TypeError, \"foo bar baz\");\n",
    "  });\n",
    "});"
   ]
  },
  {
   "cell_type": "code",
   "execution_count": 6,
   "metadata": {
    "collapsed": false
   },
   "outputs": [
    {
     "data": {
      "text/html": [
       "\n",
       "        <iframe\n",
       "            width=\"900\"\n",
       "            height=\"500\"\n",
       "            src=\"http://localhost:1337\"\n",
       "            frameborder=\"0\"\n",
       "            allowfullscreen\n",
       "        ></iframe>\n",
       "        "
      ],
      "text/plain": [
       "<IPython.lib.display.IFrame at 0x7f0dc9f57e10>"
      ]
     },
     "metadata": {},
     "output_type": "display_data"
    }
   ],
   "source": [
    "display(IFrame('http://localhost:1337', 900, 500))"
   ]
  },
  {
   "cell_type": "markdown",
   "metadata": {
    "slideshow": {
     "slide_type": "slide"
    }
   },
   "source": [
    "### Mocking: Spy"
   ]
  },
  {
   "cell_type": "code",
   "execution_count": 12,
   "metadata": {
    "collapsed": false
   },
   "outputs": [
    {
     "name": "stdout",
     "output_type": "stream",
     "text": [
      "Overwriting ../spec/javascripts/SpySpec.js\n"
     ]
    }
   ],
   "source": [
    "%%writefile ../spec/javascripts/SpySpec.js\n",
    "\n",
    "describe(\"A spy\", function() {\n",
    "  var foo, bar = null;\n",
    "\n",
    "  beforeEach(function() {\n",
    "    foo = {\n",
    "      setBar: function(value) {\n",
    "        bar = value;\n",
    "      }\n",
    "    };\n",
    "\n",
    "    spyOn(foo, 'setBar');\n",
    "\n",
    "    foo.setBar(123);\n",
    "    foo.setBar(456, 'another param');\n",
    "  });\n",
    "\n",
    "  it(\"tracks that the spy was called\", function() {\n",
    "    expect(foo.setBar).toHaveBeenCalled();\n",
    "  });\n",
    "\n",
    "  it(\"tracks all the arguments of its calls\", function() {\n",
    "    expect(foo.setBar).toHaveBeenCalledWith(123);\n",
    "    expect(foo.setBar).toHaveBeenCalledWith(456, 'another param');\n",
    "  });\n",
    "\n",
    "  it(\"stops all execution on a function\", function() {\n",
    "    expect(bar).toBeNull();\n",
    "  });\n",
    "});"
   ]
  },
  {
   "cell_type": "code",
   "execution_count": 13,
   "metadata": {
    "collapsed": false
   },
   "outputs": [
    {
     "data": {
      "text/html": [
       "\n",
       "        <iframe\n",
       "            width=\"900\"\n",
       "            height=\"500\"\n",
       "            src=\"http://localhost:1337\"\n",
       "            frameborder=\"0\"\n",
       "            allowfullscreen\n",
       "        ></iframe>\n",
       "        "
      ],
      "text/plain": [
       "<IPython.lib.display.IFrame at 0x7f0dc9f61b10>"
      ]
     },
     "metadata": {},
     "output_type": "display_data"
    }
   ],
   "source": [
    "display(IFrame('http://localhost:1337', 900, 500))"
   ]
  },
  {
   "cell_type": "markdown",
   "metadata": {
    "slideshow": {
     "slide_type": "slide"
    }
   },
   "source": [
    "### Ejemplo TDD usando Jasmine"
   ]
  },
  {
   "cell_type": "code",
   "execution_count": 9,
   "metadata": {
    "collapsed": false
   },
   "outputs": [
    {
     "name": "stdout",
     "output_type": "stream",
     "text": [
      "Overwriting ../js/TDDExample.js\n"
     ]
    }
   ],
   "source": [
    "%%writefile ../js/TDDExample.js\n",
    "\n",
    "var TDDExample = {};\n",
    "TDDExample.abs = function(n) {\n",
    "    if (n < 0) {\n",
    "        return -1 * n;\n",
    "    }\n",
    "    return n;\n",
    "};"
   ]
  },
  {
   "cell_type": "code",
   "execution_count": 10,
   "metadata": {
    "collapsed": false
   },
   "outputs": [
    {
     "name": "stdout",
     "output_type": "stream",
     "text": [
      "Overwriting ../spec/javascripts/TDDExampleSpec.js\n"
     ]
    }
   ],
   "source": [
    "%%writefile ../spec/javascripts/TDDExampleSpec.js\n",
    "\n",
    "describe(\"TDD example: Absolute value\", function() {\n",
    "    describe(\"When a positive number is given\", function() {\n",
    "        it(\"should return a positive number\", function() {\n",
    "            expect(TDDExample.abs(5)).toEqual(5);\n",
    "        });\n",
    "    });\n",
    "    describe(\"When a negative number is given\", function() {\n",
    "        it(\"should return the same number but positive\", function() {\n",
    "            expect(TDDExample.abs(-5.5)).toEqual(5.5);\n",
    "        });\n",
    "    });\n",
    "});"
   ]
  },
  {
   "cell_type": "code",
   "execution_count": 11,
   "metadata": {
    "collapsed": false
   },
   "outputs": [
    {
     "data": {
      "text/html": [
       "\n",
       "        <iframe\n",
       "            width=\"900\"\n",
       "            height=\"300\"\n",
       "            src=\"http://localhost:1337\"\n",
       "            frameborder=\"0\"\n",
       "            allowfullscreen\n",
       "        ></iframe>\n",
       "        "
      ],
      "text/plain": [
       "<IPython.lib.display.IFrame at 0x7f0dc9f61990>"
      ]
     },
     "metadata": {},
     "output_type": "display_data"
    }
   ],
   "source": [
    "from IPython.display import display, IFrame\n",
    "display(IFrame('http://localhost:1337', 900, 300))"
   ]
  },
  {
   "cell_type": "markdown",
   "metadata": {
    "slideshow": {
     "slide_type": "notes"
    }
   },
   "source": [
    "Es un proceso de desarrollo de software que se base en la repetición de un ciclo bastante sencillo."
   ]
  },
  {
   "cell_type": "markdown",
   "metadata": {
    "slideshow": {
     "slide_type": "slide"
    }
   },
   "source": [
    "### Referencias\n",
    "\n",
    "* http://jasmine.github.io/2.3/introduction.html\n",
    "* https://en.wikipedia.org/wiki/Behavior-driven_development\n",
    "* https://en.wikipedia.org/wiki/Test-driven_development\n",
    "* https://github.com/jasmine/jasmine"
   ]
  }
 ],
 "metadata": {
  "celltoolbar": "Slideshow",
  "kernelspec": {
   "display_name": "Python 2",
   "language": "python",
   "name": "python2"
  },
  "language_info": {
   "codemirror_mode": {
    "name": "ipython",
    "version": 2
   },
   "file_extension": ".py",
   "mimetype": "text/x-python",
   "name": "python",
   "nbconvert_exporter": "python",
   "pygments_lexer": "ipython2",
   "version": "2.7.8"
  }
 },
 "nbformat": 4,
 "nbformat_minor": 0
}
