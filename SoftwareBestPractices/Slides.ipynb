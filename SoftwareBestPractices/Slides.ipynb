{
 "cells": [
  {
   "cell_type": "markdown",
   "metadata": {},
   "source": [
    "## Continuous Integration"
   ]
  },
  {
   "cell_type": "markdown",
   "metadata": {},
   "source": [
    "** Objetivo: ** Prevenir problemas de integración. Integrar más frecuentemente para hacer la integración más sencilla."
   ]
  },
  {
   "cell_type": "markdown",
   "metadata": {},
   "source": [
    "**TODO**: Explicar el workflow o mostrarlo de algún modo en un diagrama. Cuando hay múltiples desarrolladores."
   ]
  },
  {
   "cell_type": "markdown",
   "metadata": {},
   "source": [
    "**Aspéctos ténicos que soportan CI:**\n",
    "\n",
    "* Mantener un repositorio de código. Este repositorio debe tener además todos los scripts/archivos necesarios para hacer el proceso de *building*.\n",
    "* Automatizar todo el proceso de *building*. Cada *commit* debe disparar un proceso de *building*, por esta razón este proceso debe ser muy rápido usando recursos como el *caching* y el procesamiento distribuido. \n",
    "* Después de cada *commit* también se deben ejecutar todas las pruebas. Lo anterior se puede lograr encadenando el proceso de *building* con el proceso de *testing*.\n",
    "* *Deployment* automático.\n",
    "* Todos los desarrolladores deben poder ver los resultados de los procesos de *building*.\n",
    "* Ejecutar las pruebas en un ambiente réplica del ambiente de producción (*staging environment*)."
   ]
  },
  {
   "cell_type": "markdown",
   "metadata": {},
   "source": [
    "** Prácticas que soportan CI:**\n",
    "\n",
    "* Se deben hacer *commits* frecuentes al repositorio principal.\n",
    "* Se deben escribir *tests* para el código que se incluya en el repositorio principal. Se debe mantener un amplio *test coverage*.\n",
    "* Debe existir un monitoreo constante de los resultados de los procesos de *building* y *testing*."
   ]
  },
  {
   "cell_type": "markdown",
   "metadata": {},
   "source": [
    "Hablar de los beneficios en general de CI:\n",
    "* No favorece la situación en la cual todos quieren integrar sus versiones del código a última hora.\n",
    "* Siempre hay versión funcional del sistema para un demo/release.\n",
    "* Si hay que hacer rollback de un commit generalmente es pequeño debido a la práctica de hacer commits pequeños y constantes.\n",
    "* Hablar de la relación costo/beneficio de implementar CI."
   ]
  },
  {
   "cell_type": "markdown",
   "metadata": {},
   "source": [
    "## Continuous Delivery"
   ]
  },
  {
   "cell_type": "markdown",
   "metadata": {},
   "source": [
    "** Objetivo: ** Busca que el software que se encuentra en el repositorio siempre se encuentre en un estado que pueda ser liberado a los usuarios de manera confiable. "
   ]
  },
  {
   "cell_type": "markdown",
   "metadata": {},
   "source": [
    "* Se base en la automatización de pruebas y en integración continua.\n",
    "* De esta manera el proceso de *deployment* es muy rápido.\n",
    "* El ciclo de desarrollo tienden a ser más corto.\n",
    "* Se reducen al mínimo los esfuerzos manuales en la etapa de *deployment*.\n",
    "* Como consecuencia las mejoras y *bug fixes* son facílmente liberados a los usuarios."
   ]
  },
  {
   "cell_type": "markdown",
   "metadata": {},
   "source": [
    "* Recalcar que esto se base en la **automatización** de todo\n",
    "* Se hace mas reliable todo el proceso de deployment "
   ]
  },
  {
   "cell_type": "markdown",
   "metadata": {},
   "source": [
    "## Code Repository"
   ]
  },
  {
   "cell_type": "markdown",
   "metadata": {},
   "source": [
    "* Un repositorio abierto y centralizado.\n",
    "* Herramientas de búsqueda de código avanzadas.\n",
    "* Herramienta de **revisión de código** integrada con el repositorio."
   ]
  },
  {
   "cell_type": "markdown",
   "metadata": {},
   "source": [
    "## Code reviews"
   ]
  },
  {
   "cell_type": "markdown",
   "metadata": {},
   "source": [
    "* Todo el código debe ser revisado por otro(s) desarrolladores antes de ser incluido en el repositorio."
   ]
  },
  {
   "cell_type": "markdown",
   "metadata": {},
   "source": [
    "\n",
    "** Aspectos tenidos en cuenta en una revisión de código **\n",
    "\n",
    "* Correctitud \n",
    "* Tests\n",
    "* Refactoring\n",
    "* Estilo\n",
    "* Documentación\n",
    "\n",
    "** Ejemplo **\n",
    "* https://www.gerritcodereview.com\n",
    "* https://gerrit-review.googlesource.com/#/c/69384/\n",
    "* https://codereview.appspot.com/"
   ]
  },
  {
   "cell_type": "markdown",
   "metadata": {},
   "source": [
    "## Design reviews"
   ]
  },
  {
   "cell_type": "markdown",
   "metadata": {},
   "source": [
    "* Todos los diseños propuestos para implementar nuevas funcionalidades son revisados en *design reviews*.\n",
    "* Los diseños propuestos son generalmente compartidos en medios que permiten la edición colaborativa y el registro de notas y comentarios.\n",
    "* De acuerdo a la retroalimentación obtenida en los *design reviews* los diseños son modificados y nuevos *design reviews* son programados o se inicia la etapa de implementación.\n",
    "* Los documentos resultantes son relacionados en la documentación del proyecto."
   ]
  },
  {
   "cell_type": "markdown",
   "metadata": {},
   "source": [
    "Hacer énfasis en la autonomía de la persona que propone el diseño para utilizar los recursos que considere necesarios. No hay un estándar aceptado de manera general para realizar estos documentos. ."
   ]
  },
  {
   "cell_type": "markdown",
   "metadata": {},
   "source": [
    "## Demo sessions"
   ]
  },
  {
   "cell_type": "markdown",
   "metadata": {},
   "source": [
    "* Sesiones donde se hacen demostraciones preliminares de las nuevas funcionalidades.\n",
    "* Generalmente los otros desarrolladores replican los diferentes *workflows*.\n",
    "* En ocasiones estas sesiones se convierten en un ** bug bash **:\n",
    "    * Se define como probar.\n",
    "    * Se define como reportar los problemas encontrados."
   ]
  },
  {
   "cell_type": "markdown",
   "metadata": {},
   "source": [
    "## Coding style guide"
   ]
  },
  {
   "cell_type": "markdown",
   "metadata": {},
   "source": [
    "* Son un conjunto de convenciones para escribir código en cierto lenguaje de programación para un proyecto determinado.\n",
    "    * Tamaño máximo de cada línea de código.\n",
    "    * Como nombrar las variables.\n",
    "    * Como hacer los comentarios.\n",
    "    * Como identar.\n",
    "    * ...\n",
    "    \n",
    "* Son importantes porque facilitan la lectura de código en grandes *codebases*. Además sugieren algunas prácticas que hacen el código más mantenible.\n",
    "\n",
    "* Ejemplo:\n",
    "    * http://google.github.io/styleguide/pyguide.html"
   ]
  },
  {
   "cell_type": "markdown",
   "metadata": {},
   "source": [
    "## Pylint"
   ]
  },
  {
   "cell_type": "markdown",
   "metadata": {},
   "source": [
    "* Una herramienta para asegurar la consistencia con un estándar de codificación para Python (entre otras cosas). "
   ]
  },
  {
   "cell_type": "markdown",
   "metadata": {},
   "source": [
    "* Este herramienta se puede incluir en proceso de integración continua"
   ]
  },
  {
   "cell_type": "markdown",
   "metadata": {},
   "source": [
    "* http://www.pylint.org/"
   ]
  },
  {
   "cell_type": "code",
   "execution_count": 26,
   "metadata": {
    "collapsed": false
   },
   "outputs": [
    {
     "name": "stdout",
     "output_type": "stream",
     "text": [
      "Writing Pylint_bad_example.py\n"
     ]
    }
   ],
   "source": [
    "%%writefile Pylint_bad_example.py\n",
    "\n",
    "TriangularNumber = 0\n",
    "for x in xrange(0, 10):\n",
    "    TriangularNumber+=x"
   ]
  },
  {
   "cell_type": "code",
   "execution_count": 27,
   "metadata": {
    "collapsed": false
   },
   "outputs": [
    {
     "name": "stdout",
     "output_type": "stream",
     "text": [
      "************* Module Pylint_bad_example\n",
      "C:  4, 0: Final newline missing (missing-final-newline)\n",
      "C:  4, 0: Exactly one space required around assignment\n",
      "    TriangularNumber+=x                    ^^ (bad-whitespace)\n",
      "C:  1, 0: Invalid module name \"Pylint_bad_example\" (invalid-name)\n",
      "C:  1, 0: Missing module docstring (missing-docstring)\n",
      "C:  2, 0: Invalid constant name \"TriangularNumber\" (invalid-name)\n"
     ]
    },
    {
     "name": "stderr",
     "output_type": "stream",
     "text": [
      "No config file found, using default configuration\n"
     ]
    }
   ],
   "source": [
    "%%bash\n",
    "pylint -rn Pylint_bad_example.py"
   ]
  },
  {
   "cell_type": "code",
   "execution_count": 34,
   "metadata": {
    "collapsed": false
   },
   "outputs": [
    {
     "name": "stdout",
     "output_type": "stream",
     "text": [
      "Overwriting pylint_good_example.py\n"
     ]
    }
   ],
   "source": [
    "%%writefile pylint_good_example.py\n",
    "\"\"\"Contains a function that computes a fixed triangular number.\"\"\"\n",
    "\n",
    "TRIANGULAR_NUMBER = 0\n",
    "for x in xrange(0, 10):\n",
    "    TRIANGULAR_NUMBER += x\n",
    "    "
   ]
  },
  {
   "cell_type": "code",
   "execution_count": 35,
   "metadata": {
    "collapsed": false
   },
   "outputs": [
    {
     "name": "stderr",
     "output_type": "stream",
     "text": [
      "No config file found, using default configuration\n"
     ]
    }
   ],
   "source": [
    "%%bash\n",
    "pylint -rn pylint_good_example.py"
   ]
  },
  {
   "cell_type": "markdown",
   "metadata": {},
   "source": [
    "## Bazel"
   ]
  },
  {
   "cell_type": "markdown",
   "metadata": {},
   "source": [
    "## Metodología de desarrollo"
   ]
  },
  {
   "cell_type": "markdown",
   "metadata": {},
   "source": [
    "## TDD"
   ]
  },
  {
   "cell_type": "markdown",
   "metadata": {},
   "source": [
    "## Test automation"
   ]
  },
  {
   "cell_type": "markdown",
   "metadata": {},
   "source": [
    "## Postmortems"
   ]
  },
  {
   "cell_type": "markdown",
   "metadata": {},
   "source": [
    "## End-to-End tests"
   ]
  },
  {
   "cell_type": "markdown",
   "metadata": {},
   "source": [
    "## Dogfooding"
   ]
  },
  {
   "cell_type": "markdown",
   "metadata": {},
   "source": [
    "* Es un término utilizado para describir la práctica que consiste en que los miembros de una compañía usen los productos de la misma.\n",
    "* De esta manera se logra que los miembros de la compañía (desarrolladores) tengan la misma interacción con la aplicación que un usuario final.\n",
    "* Otra forma de testing.\n",
    "* *Testimonial advertising*"
   ]
  },
  {
   "cell_type": "markdown",
   "metadata": {},
   "source": [
    "* Es una práctica muuuuy común en algunas empresas.\n",
    "* De esta manera se demuestra seguridad en los productos de la misma empresa y esto es una forma de marketing."
   ]
  },
  {
   "cell_type": "markdown",
   "metadata": {},
   "source": [
    "## Onboarding"
   ]
  },
  {
   "cell_type": "markdown",
   "metadata": {
    "collapsed": true
   },
   "source": [
    "** LINKS **\n",
    "\n",
    "http://www.quora.com/What-software-development-methodology-ies-does-Google-use\n",
    "http://www.quora.com/What-parts-of-Google-software-engineering-culture-do-you-use-and-propagate-after-you-left-Google\n",
    "http://googletesting.blogspot.com/"
   ]
  },
  {
   "cell_type": "markdown",
   "metadata": {},
   "source": [
    "## Referencias\n",
    "\n",
    "* https://en.wikipedia.org/wiki/Continuous_integration\n",
    "* https://en.wikipedia.org/wiki/Continuous_delivery\n",
    "* https://en.wikipedia.org/wiki/Eating_your_own_dog_food\n",
    "* https://en.wikipedia.org/wiki/Bug_bash"
   ]
  }
 ],
 "metadata": {
  "kernelspec": {
   "display_name": "Python 2",
   "language": "python",
   "name": "python2"
  },
  "language_info": {
   "codemirror_mode": {
    "name": "ipython",
    "version": 2
   },
   "file_extension": ".py",
   "mimetype": "text/x-python",
   "name": "python",
   "nbconvert_exporter": "python",
   "pygments_lexer": "ipython2",
   "version": "2.7.8"
  }
 },
 "nbformat": 4,
 "nbformat_minor": 0
}
