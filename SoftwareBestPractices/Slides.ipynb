{
 "cells": [
  {
   "cell_type": "markdown",
   "metadata": {
    "slideshow": {
     "slide_type": "slide"
    }
   },
   "source": [
    "# Buenas prácticas en el desarrollo de software, una experiencia."
   ]
  },
  {
   "cell_type": "markdown",
   "metadata": {},
   "source": [
    "\n",
    "## Diego A. Agudelo España."
   ]
  },
  {
   "cell_type": "markdown",
   "metadata": {},
   "source": [
    "\n",
    "### 10/07/2015"
   ]
  },
  {
   "cell_type": "markdown",
   "metadata": {
    "slideshow": {
     "slide_type": "slide"
    }
   },
   "source": [
    "## Continuous Integration"
   ]
  },
  {
   "cell_type": "markdown",
   "metadata": {
    "slideshow": {
     "slide_type": "fragment"
    }
   },
   "source": [
    "** Objetivo: ** Prevenir problemas de integración. Integrar más frecuentemente para hacer la integración más sencilla."
   ]
  },
  {
   "cell_type": "markdown",
   "metadata": {
    "slideshow": {
     "slide_type": "notes"
    }
   },
   "source": [
    "**TODO**: Explicar el workflow o mostrarlo de algún modo en un diagrama. Cuando hay múltiples desarrolladores."
   ]
  },
  {
   "cell_type": "markdown",
   "metadata": {
    "slideshow": {
     "slide_type": "slide"
    }
   },
   "source": [
    "**Aspéctos ténicos que soportan CI:**\n",
    "\n",
    "* Mantener un repositorio de código. Este repositorio debe tener además todos los scripts/archivos necesarios para hacer el proceso de *building*."
   ]
  },
  {
   "cell_type": "markdown",
   "metadata": {
    "slideshow": {
     "slide_type": "fragment"
    }
   },
   "source": [
    "\n",
    "* Automatizar todo el proceso de *building*. Cada *commit* debe disparar un proceso de *building*, por esta razón este proceso debe ser muy rápido usando recursos como el *caching* y el procesamiento distribuido. \n"
   ]
  },
  {
   "cell_type": "markdown",
   "metadata": {
    "slideshow": {
     "slide_type": "fragment"
    }
   },
   "source": [
    "\n",
    "* Después de cada *commit* también se deben ejecutar todas las pruebas. Lo anterior se puede lograr encadenando el proceso de *building* con el proceso de *testing*."
   ]
  },
  {
   "cell_type": "markdown",
   "metadata": {
    "slideshow": {
     "slide_type": "fragment"
    }
   },
   "source": [
    "\n",
    "* *Deployment* automático."
   ]
  },
  {
   "cell_type": "markdown",
   "metadata": {
    "slideshow": {
     "slide_type": "fragment"
    }
   },
   "source": [
    "\n",
    "* Todos los desarrolladores deben poder ver los resultados de los procesos de *building*."
   ]
  },
  {
   "cell_type": "markdown",
   "metadata": {
    "slideshow": {
     "slide_type": "fragment"
    }
   },
   "source": [
    "\n",
    "* Ejecutar las pruebas en un ambiente réplica del ambiente de producción (*staging environment*)."
   ]
  },
  {
   "cell_type": "markdown",
   "metadata": {
    "slideshow": {
     "slide_type": "slide"
    }
   },
   "source": [
    "** Prácticas que soportan CI:**\n",
    "\n",
    "* Se deben hacer *commits* frecuentes al repositorio principal.\n",
    "* Se deben escribir *tests* para el código que se incluya en el repositorio principal. Se debe mantener un amplio *test coverage*.\n",
    "* Debe existir un monitoreo constante de los resultados de los procesos de *building* y *testing*."
   ]
  },
  {
   "cell_type": "markdown",
   "metadata": {
    "slideshow": {
     "slide_type": "notes"
    }
   },
   "source": [
    "Hablar de los beneficios en general de CI:\n",
    "* No favorece la situación en la cual todos quieren integrar sus versiones del código a última hora.\n",
    "* Siempre hay versión funcional del sistema para un demo/release.\n",
    "* Si hay que hacer rollback de un commit generalmente es pequeño debido a la práctica de hacer commits pequeños y constantes.\n",
    "* Hablar de la relación costo/beneficio de implementar CI."
   ]
  },
  {
   "cell_type": "markdown",
   "metadata": {
    "slideshow": {
     "slide_type": "slide"
    }
   },
   "source": [
    "## Continuous Delivery"
   ]
  },
  {
   "cell_type": "markdown",
   "metadata": {
    "slideshow": {
     "slide_type": "fragment"
    }
   },
   "source": [
    "** Objetivo: ** Busca que el software que se encuentra en el repositorio siempre se encuentre en un estado que pueda ser liberado a los usuarios de manera confiable. "
   ]
  },
  {
   "cell_type": "markdown",
   "metadata": {
    "slideshow": {
     "slide_type": "fragment"
    }
   },
   "source": [
    "* Se base en la automatización de pruebas y en integración continua.\n",
    "* De esta manera el proceso de *deployment* es muy rápido.\n",
    "* El ciclo de desarrollo tienden a ser más corto.\n",
    "* Se reducen al mínimo los esfuerzos manuales en la etapa de *deployment*.\n",
    "* Como consecuencia las mejoras y *bug fixes* son facílmente liberados a los usuarios."
   ]
  },
  {
   "cell_type": "markdown",
   "metadata": {
    "slideshow": {
     "slide_type": "notes"
    }
   },
   "source": [
    "* Recalcar que esto se base en la **automatización** de todo\n",
    "* Se hace mas reliable todo el proceso de deployment "
   ]
  },
  {
   "cell_type": "markdown",
   "metadata": {
    "slideshow": {
     "slide_type": "slide"
    }
   },
   "source": [
    "## Code Repository"
   ]
  },
  {
   "cell_type": "markdown",
   "metadata": {
    "slideshow": {
     "slide_type": "fragment"
    }
   },
   "source": [
    "* Un repositorio abierto y centralizado.\n",
    "* Herramientas de búsqueda de código avanzadas.\n",
    "* Herramienta de **revisión de código** integrada con el repositorio."
   ]
  },
  {
   "cell_type": "markdown",
   "metadata": {
    "slideshow": {
     "slide_type": "slide"
    }
   },
   "source": [
    "## Code reviews"
   ]
  },
  {
   "cell_type": "markdown",
   "metadata": {
    "slideshow": {
     "slide_type": "fragment"
    }
   },
   "source": [
    "* Todo el código debe ser revisado por otro(s) desarrolladores antes de ser incluido en el repositorio."
   ]
  },
  {
   "cell_type": "markdown",
   "metadata": {
    "slideshow": {
     "slide_type": "fragment"
    }
   },
   "source": [
    "\n",
    "** Aspectos tenidos en cuenta en una revisión de código **\n",
    "\n",
    "* Correctitud \n",
    "* Tests\n",
    "* Refactoring\n",
    "* Estilo\n",
    "* Documentación\n",
    "\n",
    "** Ejemplo **\n",
    "* https://www.gerritcodereview.com\n",
    "* https://gerrit-review.googlesource.com/#/c/69384/\n",
    "* https://codereview.appspot.com/"
   ]
  },
  {
   "cell_type": "markdown",
   "metadata": {
    "slideshow": {
     "slide_type": "slide"
    }
   },
   "source": [
    "## Design reviews"
   ]
  },
  {
   "cell_type": "markdown",
   "metadata": {
    "slideshow": {
     "slide_type": "fragment"
    }
   },
   "source": [
    "* Todos los diseños propuestos para implementar nuevas funcionalidades son revisados en *design reviews*.\n",
    "* Los diseños propuestos son generalmente compartidos en medios que permiten la edición colaborativa y el registro de notas y comentarios.\n",
    "* De acuerdo a la retroalimentación obtenida en los *design reviews* los diseños son modificados y nuevos *design reviews* son programados o se inicia la etapa de implementación.\n",
    "* Los documentos resultantes son relacionados en la documentación del proyecto."
   ]
  },
  {
   "cell_type": "markdown",
   "metadata": {
    "slideshow": {
     "slide_type": "notes"
    }
   },
   "source": [
    "Hacer énfasis en la autonomía de la persona que propone el diseño para utilizar los recursos que considere necesarios. No hay un estándar aceptado de manera general para realizar estos documentos. ."
   ]
  },
  {
   "cell_type": "markdown",
   "metadata": {
    "slideshow": {
     "slide_type": "slide"
    }
   },
   "source": [
    "## Demo sessions"
   ]
  },
  {
   "cell_type": "markdown",
   "metadata": {
    "slideshow": {
     "slide_type": "fragment"
    }
   },
   "source": [
    "* Sesiones donde se hacen demostraciones preliminares de las nuevas funcionalidades.\n",
    "* Generalmente los otros desarrolladores replican los diferentes *workflows*.\n",
    "* En ocasiones estas sesiones se convierten en un ** bug bash **:\n",
    "    * Se define como probar.\n",
    "    * Se define como reportar los problemas encontrados."
   ]
  },
  {
   "cell_type": "markdown",
   "metadata": {
    "slideshow": {
     "slide_type": "slide"
    }
   },
   "source": [
    "## Coding style guide"
   ]
  },
  {
   "cell_type": "markdown",
   "metadata": {
    "slideshow": {
     "slide_type": "fragment"
    }
   },
   "source": [
    "* Son un conjunto de convenciones para escribir código en cierto lenguaje de programación para un proyecto determinado.\n",
    "    * Tamaño máximo de cada línea de código.\n",
    "    * Como nombrar las variables.\n",
    "    * Como hacer los comentarios.\n",
    "    * Como identar.\n",
    "    * ...\n",
    "    \n",
    "* Son importantes porque facilitan la lectura de código en grandes *codebases*. Además sugieren algunas prácticas que hacen el código más mantenible.\n",
    "\n",
    "* Ejemplo:\n",
    "    * http://google.github.io/styleguide/pyguide.html"
   ]
  },
  {
   "cell_type": "markdown",
   "metadata": {
    "slideshow": {
     "slide_type": "slide"
    }
   },
   "source": [
    "## Pylint"
   ]
  },
  {
   "cell_type": "markdown",
   "metadata": {},
   "source": [
    "* Una herramienta para asegurar la consistencia con un estándar de codificación para Python (entre otras cosas). "
   ]
  },
  {
   "cell_type": "markdown",
   "metadata": {},
   "source": [
    "* Este herramienta se puede incluir en proceso de integración continua"
   ]
  },
  {
   "cell_type": "markdown",
   "metadata": {},
   "source": [
    "* http://www.pylint.org/"
   ]
  },
  {
   "cell_type": "code",
   "execution_count": null,
   "metadata": {
    "collapsed": true,
    "slideshow": {
     "slide_type": "slide"
    }
   },
   "outputs": [],
   "source": [
    "%%writefile Pylint_bad_example.py\n",
    "\n",
    "TriangularNumber = 0\n",
    "for x in xrange(0, 10):\n",
    "    TriangularNumber+=x"
   ]
  },
  {
   "cell_type": "code",
   "execution_count": null,
   "metadata": {
    "collapsed": true
   },
   "outputs": [],
   "source": [
    "%%bash\n",
    "pylint -rn Pylint_bad_example.py"
   ]
  },
  {
   "cell_type": "code",
   "execution_count": null,
   "metadata": {
    "collapsed": true,
    "slideshow": {
     "slide_type": "slide"
    }
   },
   "outputs": [],
   "source": [
    "%%writefile pylint_good_example.py\n",
    "\"\"\"Contains a function that computes a fixed triangular number.\"\"\"\n",
    "\n",
    "TRIANGULAR_NUMBER = 0\n",
    "for x in xrange(0, 10):\n",
    "    TRIANGULAR_NUMBER += x\n",
    "    "
   ]
  },
  {
   "cell_type": "code",
   "execution_count": null,
   "metadata": {
    "collapsed": true
   },
   "outputs": [],
   "source": [
    "%%bash\n",
    "pylint -rn pylint_good_example.py"
   ]
  },
  {
   "cell_type": "markdown",
   "metadata": {
    "slideshow": {
     "slide_type": "slide"
    }
   },
   "source": [
    "## Bazel"
   ]
  },
  {
   "cell_type": "markdown",
   "metadata": {
    "slideshow": {
     "slide_type": "fragment"
    }
   },
   "source": [
    "* **Build tool**: herramienta que ejecutará los compiladores y tests para ensamblar el software (e.g. Make).\n",
    "\n",
    "Características de Bazel:\n",
    "* Soporte para múltiples lenguajes.\n",
    "* *high level build language*.\n",
    "* Soporte para múltiples plataformas.\n",
    "* Reproducibilidad.\n",
    "* Escalabilidad.(caching y paralelismo)\n"
   ]
  },
  {
   "cell_type": "markdown",
   "metadata": {
    "slideshow": {
     "slide_type": "slide"
    }
   },
   "source": [
    "Bazel es apropiado para proyectos con las siguientes características:\n",
    "* Un gran repositorio de código.\n",
    "* Escritos en múltiples lenguajes compilados de programación.\n",
    "* Múltiples plataformas.\n",
    "* Gran número de tests.\n",
    "\n",
    "Ejemplo:\n",
    "* https://github.com/google/bazel/blob/master/examples/cpp/BUILD\n",
    "\n",
    "Referencia:\n",
    "* http://bazel.io/faq.html"
   ]
  },
  {
   "cell_type": "markdown",
   "metadata": {
    "slideshow": {
     "slide_type": "notes"
    }
   },
   "source": [
    "Mostrar el proceso de desarrollo de software en el link del FAQ."
   ]
  },
  {
   "cell_type": "markdown",
   "metadata": {
    "slideshow": {
     "slide_type": "slide"
    }
   },
   "source": [
    "## Metodología de desarrollo"
   ]
  },
  {
   "cell_type": "markdown",
   "metadata": {
    "slideshow": {
     "slide_type": "fragment"
    }
   },
   "source": [
    "* Pequeños equipos de desarrollo.\n",
    "* Los equipos se organizan de manera autónoma.\n",
    "* No hay una metodología central aplicada de manera general.\n",
    "* Se definen *deadlines* y *milestones*.\n",
    "* Similar a metologías ágiles como **XP**.\n",
    "    * Unit testing and TDD.\n",
    "    * Code reviews.\n",
    "    * End-to-End tests."
   ]
  },
  {
   "cell_type": "markdown",
   "metadata": {
    "slideshow": {
     "slide_type": "slide"
    }
   },
   "source": [
    "## TDD (Test Driven Development)"
   ]
  },
  {
   "cell_type": "markdown",
   "metadata": {},
   "source": [
    "1. Agregar un nuevo caso de prueba.\n",
    "2. Ejecutar las pruebas y asegurarse de que el nuevo caso falla.\n",
    "3. Escribir el código necesario para que el nuevo caso se ejecute con éxito.\n",
    "4. Ejecutar de nuevo las pruebas.\n",
    "5. Refactoring."
   ]
  },
  {
   "cell_type": "markdown",
   "metadata": {
    "slideshow": {
     "slide_type": "notes"
    }
   },
   "source": [
    "Hablar de TAP."
   ]
  },
  {
   "cell_type": "markdown",
   "metadata": {
    "slideshow": {
     "slide_type": "slide"
    }
   },
   "source": [
    "## Postmortems"
   ]
  },
  {
   "cell_type": "markdown",
   "metadata": {
    "slideshow": {
     "slide_type": "fragment"
    }
   },
   "source": [
    "* Son un medio para reportar fallos graves en producción. \n",
    "* Describe el estado actual del fallo.\n",
    "* Recopila todo el conocimiento adquirido acerca del fallo y su solución como referencia para futuros incidentes."
   ]
  },
  {
   "cell_type": "markdown",
   "metadata": {
    "slideshow": {
     "slide_type": "slide"
    }
   },
   "source": [
    "## End-to-End tests"
   ]
  },
  {
   "cell_type": "markdown",
   "metadata": {
    "slideshow": {
     "slide_type": "fragment"
    }
   },
   "source": [
    "* Es una técnica utilizada para probar los *workflows* desde la perspectiva del usuario final. El comportamiento de la característica bajo evaluación es probado desde el inicio hasta el final."
   ]
  },
  {
   "cell_type": "markdown",
   "metadata": {
    "slideshow": {
     "slide_type": "fragment"
    }
   },
   "source": [
    "Ventajas:\n",
    " * Simulan un usuario real en un ambiente similar al ambiente de producción.\n",
    " \n",
    "Desventajas:\n",
    " * En ocasiones el estado de estos tests es **flaky**.\n",
    " * Generalmente son lentos.\n",
    " * Dada una falla en un E2E test puede ser complicado encontrar la causa del problema."
   ]
  },
  {
   "cell_type": "markdown",
   "metadata": {
    "slideshow": {
     "slide_type": "slide"
    }
   },
   "source": [
    "## Testing Pyramid"
   ]
  },
  {
   "cell_type": "markdown",
   "metadata": {},
   "source": [
    "<img src=\"http://2.bp.blogspot.com/-YTzv_O4TnkA/VTgexlumP1I/AAAAAAAAAJ8/57-rnwyvP6g/s1600/image02.png\">\n",
    "\n",
    "Imagen tomada de: http://googletesting.blogspot.com/2015/04/just-say-no-to-more-end-to-end-tests.html"
   ]
  },
  {
   "cell_type": "markdown",
   "metadata": {
    "slideshow": {
     "slide_type": "slide"
    }
   },
   "source": [
    "## Dogfooding"
   ]
  },
  {
   "cell_type": "markdown",
   "metadata": {
    "slideshow": {
     "slide_type": "fragment"
    }
   },
   "source": [
    "* Es un término utilizado para describir la práctica que consiste en que los miembros de una compañía usen los productos de la misma.\n",
    "* De esta manera se logra que los miembros de la compañía (desarrolladores) tengan la misma interacción con la aplicación que un usuario final.\n",
    "* Otra forma de testing.\n",
    "* *Testimonial advertising*"
   ]
  },
  {
   "cell_type": "markdown",
   "metadata": {
    "slideshow": {
     "slide_type": "notes"
    }
   },
   "source": [
    "* Es una práctica muuuuy común en algunas empresas.\n",
    "* De esta manera se demuestra seguridad en los productos de la misma empresa y esto es una forma de marketing."
   ]
  },
  {
   "cell_type": "markdown",
   "metadata": {
    "slideshow": {
     "slide_type": "slide"
    }
   },
   "source": [
    "## Onboarding"
   ]
  },
  {
   "cell_type": "markdown",
   "metadata": {
    "slideshow": {
     "slide_type": "fragment"
    }
   },
   "source": [
    "* Tutoriales y ejercicios de laboratorio acerca de los conceptos principales.\n",
    "* Pair programming.\n",
    "* Documentación disponible para la mayoría de las herramientas.\n",
    "* Eventos de socialización."
   ]
  },
  {
   "cell_type": "markdown",
   "metadata": {
    "slideshow": {
     "slide_type": "slide"
    }
   },
   "source": [
    "## Referencias\n",
    "\n",
    "* https://en.wikipedia.org/wiki/Continuous_integration\n",
    "* https://en.wikipedia.org/wiki/Continuous_delivery\n",
    "* https://en.wikipedia.org/wiki/Eating_your_own_dog_food\n",
    "* https://en.wikipedia.org/wiki/Bug_bash\n",
    "* http://bazel.io/faq.html\n",
    "* https://en.wikipedia.org/wiki/Test-driven_development\n",
    "* http://googletesting.blogspot.com/2015/04/just-say-no-to-more-end-to-end-tests.html\n",
    "* https://www.quora.com/What-parts-of-Google-software-engineering-culture-do-you-use-and-propagate-after-you-left-Google"
   ]
  }
 ],
 "metadata": {
  "celltoolbar": "Slideshow",
  "kernelspec": {
   "display_name": "Python 2",
   "language": "python",
   "name": "python2"
  },
  "language_info": {
   "codemirror_mode": {
    "name": "ipython",
    "version": 2
   },
   "file_extension": ".py",
   "mimetype": "text/x-python",
   "name": "python",
   "nbconvert_exporter": "python",
   "pygments_lexer": "ipython2",
   "version": "2.7.8"
  }
 },
 "nbformat": 4,
 "nbformat_minor": 0
}
